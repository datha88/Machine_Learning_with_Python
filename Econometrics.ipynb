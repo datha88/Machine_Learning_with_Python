{
 "cells": [
  {
   "cell_type": "markdown",
   "metadata": {},
   "source": [
    "# Econometrics\n"
   ]
  },
  {
   "cell_type": "markdown",
   "metadata": {},
   "source": [
    "### Introduction \n",
    "\n",
    "I will be using data from the [Progresa program](http://en.wikipedia.org/wiki/Oportunidades), a government social assistance program in Mexico. This program, as well as the details of its impact, are described in the paper \"[School subsidies for the poor: evaluating the Mexican Progresa poverty program](http://www.sciencedirect.com/science/article/pii/S0304387803001858)\", by Paul Shultz (available on Canvas). Please familiarize yourself with the PROGRESA program before beginning this problem set, so you have a rough sense of where the data come from and how they were generated. If you just proceed into the problem set without understanding Progresa or the data, it will be very difficult!\n",
    "\n",
    "The goal of this problem set is to implement some of the basic econometric techniques that you are learning in class to measure the impact of Progresa on secondary school enrollment rates. The timeline of the program was:\n",
    "\n",
    " * Baseline survey conducted in 1997\n",
    " * Intervention begins in 1998, \"Wave 1\" of data collected in 1998\n",
    " * \"Wave 2 of data\" collected in 1999\n",
    " * Evaluation ends in 2000, at which point the control villages were treated. \n",
    " \n",
    "When you are ready, download the progresa_sample.csv data from Canvas. The data are actual data collected to evaluate the impact of the Progresa program.  In this file, each row corresponds to an observation taken for a given child for a given year. There are two years of data (1997 and 1998), and just under 40,000 children who are surveyed in each year. For each child-year observation, the following variables are collected:\n",
    "\n",
    "| Variable name | Description|\n",
    "|------|------|\n",
    "|year\t  |year in which data is collected\n",
    "|sex\t  |male = 1|\n",
    "|indig\t  |indigenous = 1|\n",
    "|dist_sec |nearest distance to a secondary school|\n",
    "|sc\t      |enrolled in school in year of survey|\n",
    "|grc      |grade enrolled|\n",
    "|fam_n    |family size|\n",
    "|min_dist |\tmin distance to an urban center|\n",
    "|dist_cap |\tmin distance to the capital|\n",
    "|poor     |\tpoor = 1|\n",
    "|progresa |treatment =1|\n",
    "|hohedu\t  |years of schooling of head of household|\n",
    "|hohwag\t  |monthly wages of head of household|\n",
    "|welfare_index|\twelfare index used to classify poor|\n",
    "|hohsex\t|gender of head of household (male=1)|\n",
    "|hohage\t|age of head of household|\n",
    "|age\t|years old|\n",
    "|folnum\t|individual id|\n",
    "|village|\tvillage id|\n",
    "|sc97\t|schooling in 1997|"
   ]
  },
  {
   "cell_type": "code",
   "execution_count": 60,
   "metadata": {
    "collapsed": false
   },
   "outputs": [],
   "source": [
    "# Importing relevant libraries\n",
    "import pandas as pd\n",
    "import numpy as np\n",
    "import matplotlib.pyplot as plt\n",
    "from pandas import DataFrame\n",
    "import scipy.stats as sp\n",
    "import statsmodels.api as sm\n",
    "import statsmodels.formula.api as smf"
   ]
  },
  {
   "cell_type": "markdown",
   "metadata": {},
   "source": [
    "---\n",
    "\n",
    "##Part 1: Descriptive analysis\n",
    "\n",
    "### 1.1\tSummary Statistics\n",
    "\n",
    "Present summary statistics (mean and standard deviation) for all of the demographic variables in the dataset (i.e., everything except year, folnum, village). Present these in a single table alphabetized by variable name. Do NOT simply expect the grader to scroll through your output!"
   ]
  },
  {
   "cell_type": "code",
   "execution_count": 61,
   "metadata": {
    "collapsed": false
   },
   "outputs": [
    {
     "data": {
      "text/html": [
       "<div>\n",
       "<table border=\"1\" class=\"dataframe\">\n",
       "  <thead>\n",
       "    <tr style=\"text-align: right;\">\n",
       "      <th></th>\n",
       "      <th>sex</th>\n",
       "      <th>indig</th>\n",
       "      <th>dist_sec</th>\n",
       "      <th>sc</th>\n",
       "      <th>grc</th>\n",
       "      <th>fam_n</th>\n",
       "      <th>min_dist</th>\n",
       "      <th>dist_cap</th>\n",
       "      <th>progresa</th>\n",
       "      <th>hohedu</th>\n",
       "      <th>hohwag</th>\n",
       "      <th>welfare_index</th>\n",
       "      <th>hohsex</th>\n",
       "      <th>hohage</th>\n",
       "      <th>age</th>\n",
       "      <th>grc97</th>\n",
       "      <th>sc97</th>\n",
       "    </tr>\n",
       "  </thead>\n",
       "  <tbody>\n",
       "    <tr>\n",
       "      <th>count</th>\n",
       "      <td>77226.000000</td>\n",
       "      <td>76950.000000</td>\n",
       "      <td>77250.000000</td>\n",
       "      <td>68797.000000</td>\n",
       "      <td>70701.000000</td>\n",
       "      <td>77250.000000</td>\n",
       "      <td>77250.000000</td>\n",
       "      <td>77250.000000</td>\n",
       "      <td>77250.000000</td>\n",
       "      <td>77250.000000</td>\n",
       "      <td>77250.000000</td>\n",
       "      <td>77040.000000</td>\n",
       "      <td>77230.000000</td>\n",
       "      <td>77240.000000</td>\n",
       "      <td>77250.000000</td>\n",
       "      <td>77250.000000</td>\n",
       "      <td>73378.000000</td>\n",
       "    </tr>\n",
       "    <tr>\n",
       "      <th>mean</th>\n",
       "      <td>0.512211</td>\n",
       "      <td>0.298324</td>\n",
       "      <td>2.418910</td>\n",
       "      <td>0.819818</td>\n",
       "      <td>3.963537</td>\n",
       "      <td>7.215715</td>\n",
       "      <td>103.447520</td>\n",
       "      <td>147.674452</td>\n",
       "      <td>0.615663</td>\n",
       "      <td>2.768104</td>\n",
       "      <td>586.985312</td>\n",
       "      <td>690.346564</td>\n",
       "      <td>0.925185</td>\n",
       "      <td>44.436717</td>\n",
       "      <td>11.366460</td>\n",
       "      <td>3.705372</td>\n",
       "      <td>0.813922</td>\n",
       "    </tr>\n",
       "    <tr>\n",
       "      <th>std</th>\n",
       "      <td>0.499854</td>\n",
       "      <td>0.457525</td>\n",
       "      <td>2.234109</td>\n",
       "      <td>0.384342</td>\n",
       "      <td>2.499063</td>\n",
       "      <td>2.352900</td>\n",
       "      <td>42.089441</td>\n",
       "      <td>76.063134</td>\n",
       "      <td>0.486441</td>\n",
       "      <td>2.656106</td>\n",
       "      <td>788.133664</td>\n",
       "      <td>139.491130</td>\n",
       "      <td>0.263095</td>\n",
       "      <td>11.620372</td>\n",
       "      <td>3.167744</td>\n",
       "      <td>2.572387</td>\n",
       "      <td>0.389172</td>\n",
       "    </tr>\n",
       "    <tr>\n",
       "      <th>min</th>\n",
       "      <td>0.000000</td>\n",
       "      <td>0.000000</td>\n",
       "      <td>0.000000</td>\n",
       "      <td>0.000000</td>\n",
       "      <td>0.000000</td>\n",
       "      <td>1.000000</td>\n",
       "      <td>9.465392</td>\n",
       "      <td>9.465392</td>\n",
       "      <td>0.000000</td>\n",
       "      <td>0.000000</td>\n",
       "      <td>0.000000</td>\n",
       "      <td>180.000000</td>\n",
       "      <td>0.000000</td>\n",
       "      <td>15.000000</td>\n",
       "      <td>6.000000</td>\n",
       "      <td>0.000000</td>\n",
       "      <td>0.000000</td>\n",
       "    </tr>\n",
       "    <tr>\n",
       "      <th>25%</th>\n",
       "      <td>0.000000</td>\n",
       "      <td>0.000000</td>\n",
       "      <td>0.574000</td>\n",
       "      <td>1.000000</td>\n",
       "      <td>2.000000</td>\n",
       "      <td>6.000000</td>\n",
       "      <td>70.518238</td>\n",
       "      <td>92.327050</td>\n",
       "      <td>0.000000</td>\n",
       "      <td>0.000000</td>\n",
       "      <td>120.000000</td>\n",
       "      <td>597.000000</td>\n",
       "      <td>1.000000</td>\n",
       "      <td>36.000000</td>\n",
       "      <td>9.000000</td>\n",
       "      <td>1.000000</td>\n",
       "      <td>1.000000</td>\n",
       "    </tr>\n",
       "    <tr>\n",
       "      <th>50%</th>\n",
       "      <td>1.000000</td>\n",
       "      <td>0.000000</td>\n",
       "      <td>2.279000</td>\n",
       "      <td>1.000000</td>\n",
       "      <td>4.000000</td>\n",
       "      <td>7.000000</td>\n",
       "      <td>111.228612</td>\n",
       "      <td>132.001494</td>\n",
       "      <td>1.000000</td>\n",
       "      <td>2.000000</td>\n",
       "      <td>500.000000</td>\n",
       "      <td>685.000000</td>\n",
       "      <td>1.000000</td>\n",
       "      <td>43.000000</td>\n",
       "      <td>11.000000</td>\n",
       "      <td>4.000000</td>\n",
       "      <td>1.000000</td>\n",
       "    </tr>\n",
       "    <tr>\n",
       "      <th>75%</th>\n",
       "      <td>1.000000</td>\n",
       "      <td>1.000000</td>\n",
       "      <td>3.582000</td>\n",
       "      <td>1.000000</td>\n",
       "      <td>6.000000</td>\n",
       "      <td>9.000000</td>\n",
       "      <td>138.446009</td>\n",
       "      <td>184.445225</td>\n",
       "      <td>1.000000</td>\n",
       "      <td>4.000000</td>\n",
       "      <td>750.000000</td>\n",
       "      <td>770.000000</td>\n",
       "      <td>1.000000</td>\n",
       "      <td>51.000000</td>\n",
       "      <td>14.000000</td>\n",
       "      <td>6.000000</td>\n",
       "      <td>1.000000</td>\n",
       "    </tr>\n",
       "    <tr>\n",
       "      <th>max</th>\n",
       "      <td>1.000000</td>\n",
       "      <td>1.000000</td>\n",
       "      <td>14.879000</td>\n",
       "      <td>1.000000</td>\n",
       "      <td>14.000000</td>\n",
       "      <td>24.000000</td>\n",
       "      <td>170.457647</td>\n",
       "      <td>359.774457</td>\n",
       "      <td>1.000000</td>\n",
       "      <td>20.000000</td>\n",
       "      <td>14000.000000</td>\n",
       "      <td>1294.000000</td>\n",
       "      <td>1.000000</td>\n",
       "      <td>98.000000</td>\n",
       "      <td>17.000000</td>\n",
       "      <td>14.000000</td>\n",
       "      <td>1.000000</td>\n",
       "    </tr>\n",
       "  </tbody>\n",
       "</table>\n",
       "</div>"
      ],
      "text/plain": [
       "                sex         indig      dist_sec            sc           grc  \\\n",
       "count  77226.000000  76950.000000  77250.000000  68797.000000  70701.000000   \n",
       "mean       0.512211      0.298324      2.418910      0.819818      3.963537   \n",
       "std        0.499854      0.457525      2.234109      0.384342      2.499063   \n",
       "min        0.000000      0.000000      0.000000      0.000000      0.000000   \n",
       "25%        0.000000      0.000000      0.574000      1.000000      2.000000   \n",
       "50%        1.000000      0.000000      2.279000      1.000000      4.000000   \n",
       "75%        1.000000      1.000000      3.582000      1.000000      6.000000   \n",
       "max        1.000000      1.000000     14.879000      1.000000     14.000000   \n",
       "\n",
       "              fam_n      min_dist      dist_cap      progresa        hohedu  \\\n",
       "count  77250.000000  77250.000000  77250.000000  77250.000000  77250.000000   \n",
       "mean       7.215715    103.447520    147.674452      0.615663      2.768104   \n",
       "std        2.352900     42.089441     76.063134      0.486441      2.656106   \n",
       "min        1.000000      9.465392      9.465392      0.000000      0.000000   \n",
       "25%        6.000000     70.518238     92.327050      0.000000      0.000000   \n",
       "50%        7.000000    111.228612    132.001494      1.000000      2.000000   \n",
       "75%        9.000000    138.446009    184.445225      1.000000      4.000000   \n",
       "max       24.000000    170.457647    359.774457      1.000000     20.000000   \n",
       "\n",
       "             hohwag  welfare_index        hohsex        hohage           age  \\\n",
       "count  77250.000000   77040.000000  77230.000000  77240.000000  77250.000000   \n",
       "mean     586.985312     690.346564      0.925185     44.436717     11.366460   \n",
       "std      788.133664     139.491130      0.263095     11.620372      3.167744   \n",
       "min        0.000000     180.000000      0.000000     15.000000      6.000000   \n",
       "25%      120.000000     597.000000      1.000000     36.000000      9.000000   \n",
       "50%      500.000000     685.000000      1.000000     43.000000     11.000000   \n",
       "75%      750.000000     770.000000      1.000000     51.000000     14.000000   \n",
       "max    14000.000000    1294.000000      1.000000     98.000000     17.000000   \n",
       "\n",
       "              grc97          sc97  \n",
       "count  77250.000000  73378.000000  \n",
       "mean       3.705372      0.813922  \n",
       "std        2.572387      0.389172  \n",
       "min        0.000000      0.000000  \n",
       "25%        1.000000      1.000000  \n",
       "50%        4.000000      1.000000  \n",
       "75%        6.000000      1.000000  \n",
       "max       14.000000      1.000000  "
      ]
     },
     "execution_count": 61,
     "metadata": {},
     "output_type": "execute_result"
    }
   ],
   "source": [
    "# reading data\n",
    "df = pd.read_csv('progresa_sample.csv')\n",
    "# mapping the progresa variable properly\n",
    "df['progresa'] = df['progresa'].map({'0': 0, 'basal': 1})\n",
    "# including only the relevant columns\n",
    "df1 = df.ix[:,'sex':'age']\n",
    "df2 = df.ix[:,'grc97':'sc97']\n",
    "progressa = pd.concat([df1, df2], axis=1, join= 'inner')\n",
    "# summary statistics for the demographic variables\n",
    "progressa.describe()"
   ]
  },
  {
   "cell_type": "markdown",
   "metadata": {},
   "source": [
    "### 1.2 Differences at baseline?\n",
    "\n",
    "Are the baseline (1997) demographic characteristics **for the poor**  different in treatment and control villages? Hint: Use a T-Test to determine whether there is a statistically significant difference in the average values of each of the variables in the dataset. Focus only on the data from 1997 for individuals who are poor (i.e., poor=='pobre').\n",
    "\n",
    "Present your results in a single table with the following columns and 14 (or so) rows:\n",
    "\n",
    "| Variable name | Average value (Treatment villages) | Average value (Control villages) | Difference (Treat - Control) | p-value |\n",
    "|------|------|------|------|------|\n",
    "|Male|?|?|?|?|\n"
   ]
  },
  {
   "cell_type": "code",
   "execution_count": 62,
   "metadata": {
    "collapsed": false
   },
   "outputs": [],
   "source": [
    "# getting baseline data\n",
    "baseline = df[df['year']==97]\n",
    "# extracting relevant data\n",
    "poor_baseline = baseline[baseline['poor']=='pobre']\n",
    "treatment = poor_baseline[poor_baseline['progresa']==1]\n",
    "control = poor_baseline[poor_baseline['progresa']==0]"
   ]
  },
  {
   "cell_type": "code",
   "execution_count": 63,
   "metadata": {
    "collapsed": true
   },
   "outputs": [],
   "source": [
    "# choosing only relevant columns\n",
    "treatment = pd.concat([treatment.ix[:,'dist_sec':'dist_cap'], treatment.ix[:,'hohedu':'welfare_index'],treatment.ix[:,'hohage':'age'],treatment.ix[:,'grc97':'sc97']], axis=1, join= 'inner')\n",
    "control = pd.concat([control.ix[:,'dist_sec':'dist_cap'], control.ix[:,'hohedu':'welfare_index'],control.ix[:,'hohage':'age'],control.ix[:,'grc97':'sc97']], axis=1, join= 'inner')\n",
    "testcol = list(treatment.columns.values)"
   ]
  },
  {
   "cell_type": "code",
   "execution_count": 64,
   "metadata": {
    "collapsed": false
   },
   "outputs": [],
   "source": [
    "# Creating an empty dataframe to store the results\n",
    "testRes = pd.DataFrame(index=range(1,len(testcol)+1), columns=['Variable name','Average value (Treatment villages)','Average value (Control villages)','Difference (Treat - Control)','p-value'])\n",
    "# assigning values to the columns\n",
    "testRes['Variable name'] = testcol\n",
    "testRes['Average value (Treatment villages)'] = pd.Series.tolist(treatment.mean(axis=0))\n",
    "testRes['Average value (Control villages)'] = pd.Series.tolist(control.mean(axis=0))\n",
    "testRes['Difference (Treat - Control)'] = testRes['Average value (Treatment villages)']-testRes['Average value (Control villages)']"
   ]
  },
  {
   "cell_type": "code",
   "execution_count": 65,
   "metadata": {
    "collapsed": false
   },
   "outputs": [
    {
     "data": {
      "text/html": [
       "<div>\n",
       "<table border=\"1\" class=\"dataframe\">\n",
       "  <thead>\n",
       "    <tr style=\"text-align: right;\">\n",
       "      <th></th>\n",
       "      <th>Variable name</th>\n",
       "      <th>Average value (Treatment villages)</th>\n",
       "      <th>Average value (Control villages)</th>\n",
       "      <th>Difference (Treat - Control)</th>\n",
       "      <th>p-value</th>\n",
       "    </tr>\n",
       "  </thead>\n",
       "  <tbody>\n",
       "    <tr>\n",
       "      <th>1</th>\n",
       "      <td>dist_sec</td>\n",
       "      <td>2.453122</td>\n",
       "      <td>2.507662</td>\n",
       "      <td>-0.054540</td>\n",
       "      <td>4.266282e-02</td>\n",
       "    </tr>\n",
       "    <tr>\n",
       "      <th>2</th>\n",
       "      <td>sc</td>\n",
       "      <td>0.822697</td>\n",
       "      <td>0.815186</td>\n",
       "      <td>0.007511</td>\n",
       "      <td>9.646120e-02</td>\n",
       "    </tr>\n",
       "    <tr>\n",
       "      <th>3</th>\n",
       "      <td>grc</td>\n",
       "      <td>3.531599</td>\n",
       "      <td>3.543050</td>\n",
       "      <td>-0.011450</td>\n",
       "      <td>6.895228e-01</td>\n",
       "    </tr>\n",
       "    <tr>\n",
       "      <th>4</th>\n",
       "      <td>fam_n</td>\n",
       "      <td>7.281327</td>\n",
       "      <td>7.302469</td>\n",
       "      <td>-0.021142</td>\n",
       "      <td>4.289667e-01</td>\n",
       "    </tr>\n",
       "    <tr>\n",
       "      <th>5</th>\n",
       "      <td>min_dist</td>\n",
       "      <td>107.152915</td>\n",
       "      <td>103.237854</td>\n",
       "      <td>3.915060</td>\n",
       "      <td>7.055795e-16</td>\n",
       "    </tr>\n",
       "    <tr>\n",
       "      <th>6</th>\n",
       "      <td>dist_cap</td>\n",
       "      <td>150.829074</td>\n",
       "      <td>153.769730</td>\n",
       "      <td>-2.940656</td>\n",
       "      <td>1.146482e-03</td>\n",
       "    </tr>\n",
       "    <tr>\n",
       "      <th>7</th>\n",
       "      <td>hohedu</td>\n",
       "      <td>2.663139</td>\n",
       "      <td>2.590348</td>\n",
       "      <td>0.072791</td>\n",
       "      <td>1.038219e-02</td>\n",
       "    </tr>\n",
       "    <tr>\n",
       "      <th>8</th>\n",
       "      <td>hohwag</td>\n",
       "      <td>544.339544</td>\n",
       "      <td>573.163558</td>\n",
       "      <td>-28.824015</td>\n",
       "      <td>3.287285e-04</td>\n",
       "    </tr>\n",
       "    <tr>\n",
       "      <th>9</th>\n",
       "      <td>welfare_index</td>\n",
       "      <td>655.428377</td>\n",
       "      <td>659.579100</td>\n",
       "      <td>-4.150723</td>\n",
       "      <td>1.531678e-03</td>\n",
       "    </tr>\n",
       "    <tr>\n",
       "      <th>10</th>\n",
       "      <td>hohage</td>\n",
       "      <td>43.648828</td>\n",
       "      <td>44.276918</td>\n",
       "      <td>-0.628090</td>\n",
       "      <td>2.259461e-06</td>\n",
       "    </tr>\n",
       "    <tr>\n",
       "      <th>11</th>\n",
       "      <td>age</td>\n",
       "      <td>10.716991</td>\n",
       "      <td>10.742023</td>\n",
       "      <td>-0.025032</td>\n",
       "      <td>4.783633e-01</td>\n",
       "    </tr>\n",
       "    <tr>\n",
       "      <th>12</th>\n",
       "      <td>grc97</td>\n",
       "      <td>3.531599</td>\n",
       "      <td>3.543050</td>\n",
       "      <td>-0.011450</td>\n",
       "      <td>6.895228e-01</td>\n",
       "    </tr>\n",
       "    <tr>\n",
       "      <th>13</th>\n",
       "      <td>sc97</td>\n",
       "      <td>0.822697</td>\n",
       "      <td>0.815186</td>\n",
       "      <td>0.007511</td>\n",
       "      <td>9.646120e-02</td>\n",
       "    </tr>\n",
       "  </tbody>\n",
       "</table>\n",
       "</div>"
      ],
      "text/plain": [
       "    Variable name  Average value (Treatment villages)  \\\n",
       "1        dist_sec                            2.453122   \n",
       "2              sc                            0.822697   \n",
       "3             grc                            3.531599   \n",
       "4           fam_n                            7.281327   \n",
       "5        min_dist                          107.152915   \n",
       "6        dist_cap                          150.829074   \n",
       "7          hohedu                            2.663139   \n",
       "8          hohwag                          544.339544   \n",
       "9   welfare_index                          655.428377   \n",
       "10         hohage                           43.648828   \n",
       "11            age                           10.716991   \n",
       "12          grc97                            3.531599   \n",
       "13           sc97                            0.822697   \n",
       "\n",
       "    Average value (Control villages)  Difference (Treat - Control)  \\\n",
       "1                           2.507662                     -0.054540   \n",
       "2                           0.815186                      0.007511   \n",
       "3                           3.543050                     -0.011450   \n",
       "4                           7.302469                     -0.021142   \n",
       "5                         103.237854                      3.915060   \n",
       "6                         153.769730                     -2.940656   \n",
       "7                           2.590348                      0.072791   \n",
       "8                         573.163558                    -28.824015   \n",
       "9                         659.579100                     -4.150723   \n",
       "10                         44.276918                     -0.628090   \n",
       "11                         10.742023                     -0.025032   \n",
       "12                          3.543050                     -0.011450   \n",
       "13                          0.815186                      0.007511   \n",
       "\n",
       "         p-value  \n",
       "1   4.266282e-02  \n",
       "2   9.646120e-02  \n",
       "3   6.895228e-01  \n",
       "4   4.289667e-01  \n",
       "5   7.055795e-16  \n",
       "6   1.146482e-03  \n",
       "7   1.038219e-02  \n",
       "8   3.287285e-04  \n",
       "9   1.531678e-03  \n",
       "10  2.259461e-06  \n",
       "11  4.783633e-01  \n",
       "12  6.895228e-01  \n",
       "13  9.646120e-02  "
      ]
     },
     "execution_count": 65,
     "metadata": {},
     "output_type": "execute_result"
    }
   ],
   "source": [
    "# creating empty list to store p-values\n",
    "tres = list()\n",
    "# loop to run t-test for each variable\n",
    "for i in range(0,len(treatment.columns)):\n",
    "    temp = sp.ttest_ind(np.array(treatment[~np.isnan(treatment.iloc[:,i])].iloc[:,i]),np.array(control[~np.isnan(control.iloc[:,i])].iloc[:,i]),equal_var=False)\n",
    "    temp = pd.Series(temp,index=['tvalue','pvalue'])    \n",
    "    tres.append(temp.pvalue) \n",
    "testRes['p-value'] = tres\n",
    "# results in tabular fashion\n",
    "testRes"
   ]
  },
  {
   "cell_type": "code",
   "execution_count": 66,
   "metadata": {
    "collapsed": false
   },
   "outputs": [
    {
     "data": {
      "text/html": [
       "<div>\n",
       "<table border=\"1\" class=\"dataframe\">\n",
       "  <thead>\n",
       "    <tr style=\"text-align: right;\">\n",
       "      <th></th>\n",
       "      <th>Variable name</th>\n",
       "      <th>Average value (Treatment villages)</th>\n",
       "      <th>Average value (Control villages)</th>\n",
       "      <th>Difference (Treat - Control)</th>\n",
       "      <th>p-value</th>\n",
       "    </tr>\n",
       "  </thead>\n",
       "  <tbody>\n",
       "    <tr>\n",
       "      <th>2</th>\n",
       "      <td>sc</td>\n",
       "      <td>0.822697</td>\n",
       "      <td>0.815186</td>\n",
       "      <td>0.007511</td>\n",
       "      <td>0.096461</td>\n",
       "    </tr>\n",
       "    <tr>\n",
       "      <th>3</th>\n",
       "      <td>grc</td>\n",
       "      <td>3.531599</td>\n",
       "      <td>3.543050</td>\n",
       "      <td>-0.011450</td>\n",
       "      <td>0.689523</td>\n",
       "    </tr>\n",
       "    <tr>\n",
       "      <th>4</th>\n",
       "      <td>fam_n</td>\n",
       "      <td>7.281327</td>\n",
       "      <td>7.302469</td>\n",
       "      <td>-0.021142</td>\n",
       "      <td>0.428967</td>\n",
       "    </tr>\n",
       "    <tr>\n",
       "      <th>11</th>\n",
       "      <td>age</td>\n",
       "      <td>10.716991</td>\n",
       "      <td>10.742023</td>\n",
       "      <td>-0.025032</td>\n",
       "      <td>0.478363</td>\n",
       "    </tr>\n",
       "    <tr>\n",
       "      <th>12</th>\n",
       "      <td>grc97</td>\n",
       "      <td>3.531599</td>\n",
       "      <td>3.543050</td>\n",
       "      <td>-0.011450</td>\n",
       "      <td>0.689523</td>\n",
       "    </tr>\n",
       "    <tr>\n",
       "      <th>13</th>\n",
       "      <td>sc97</td>\n",
       "      <td>0.822697</td>\n",
       "      <td>0.815186</td>\n",
       "      <td>0.007511</td>\n",
       "      <td>0.096461</td>\n",
       "    </tr>\n",
       "  </tbody>\n",
       "</table>\n",
       "</div>"
      ],
      "text/plain": [
       "   Variable name  Average value (Treatment villages)  \\\n",
       "2             sc                            0.822697   \n",
       "3            grc                            3.531599   \n",
       "4          fam_n                            7.281327   \n",
       "11           age                           10.716991   \n",
       "12         grc97                            3.531599   \n",
       "13          sc97                            0.822697   \n",
       "\n",
       "    Average value (Control villages)  Difference (Treat - Control)   p-value  \n",
       "2                           0.815186                      0.007511  0.096461  \n",
       "3                           3.543050                     -0.011450  0.689523  \n",
       "4                           7.302469                     -0.021142  0.428967  \n",
       "11                         10.742023                     -0.025032  0.478363  \n",
       "12                          3.543050                     -0.011450  0.689523  \n",
       "13                          0.815186                      0.007511  0.096461  "
      ]
     },
     "execution_count": 66,
     "metadata": {},
     "output_type": "execute_result"
    }
   ],
   "source": [
    "# variables(demographics) that are statistically different in the treatment and control villages\n",
    "testRes[testRes['p-value']>=0.05]"
   ]
  },
  {
   "cell_type": "code",
   "execution_count": 67,
   "metadata": {
    "collapsed": false
   },
   "outputs": [
    {
     "data": {
      "text/html": [
       "<div>\n",
       "<table border=\"1\" class=\"dataframe\">\n",
       "  <thead>\n",
       "    <tr style=\"text-align: right;\">\n",
       "      <th></th>\n",
       "      <th>Variable name</th>\n",
       "      <th>Average value (Treatment villages)</th>\n",
       "      <th>Average value (Control villages)</th>\n",
       "      <th>Difference (Treat - Control)</th>\n",
       "      <th>p-value</th>\n",
       "    </tr>\n",
       "  </thead>\n",
       "  <tbody>\n",
       "    <tr>\n",
       "      <th>1</th>\n",
       "      <td>dist_sec</td>\n",
       "      <td>2.453122</td>\n",
       "      <td>2.507662</td>\n",
       "      <td>-0.054540</td>\n",
       "      <td>4.266282e-02</td>\n",
       "    </tr>\n",
       "    <tr>\n",
       "      <th>5</th>\n",
       "      <td>min_dist</td>\n",
       "      <td>107.152915</td>\n",
       "      <td>103.237854</td>\n",
       "      <td>3.915060</td>\n",
       "      <td>7.055795e-16</td>\n",
       "    </tr>\n",
       "    <tr>\n",
       "      <th>6</th>\n",
       "      <td>dist_cap</td>\n",
       "      <td>150.829074</td>\n",
       "      <td>153.769730</td>\n",
       "      <td>-2.940656</td>\n",
       "      <td>1.146482e-03</td>\n",
       "    </tr>\n",
       "    <tr>\n",
       "      <th>7</th>\n",
       "      <td>hohedu</td>\n",
       "      <td>2.663139</td>\n",
       "      <td>2.590348</td>\n",
       "      <td>0.072791</td>\n",
       "      <td>1.038219e-02</td>\n",
       "    </tr>\n",
       "    <tr>\n",
       "      <th>8</th>\n",
       "      <td>hohwag</td>\n",
       "      <td>544.339544</td>\n",
       "      <td>573.163558</td>\n",
       "      <td>-28.824015</td>\n",
       "      <td>3.287285e-04</td>\n",
       "    </tr>\n",
       "    <tr>\n",
       "      <th>9</th>\n",
       "      <td>welfare_index</td>\n",
       "      <td>655.428377</td>\n",
       "      <td>659.579100</td>\n",
       "      <td>-4.150723</td>\n",
       "      <td>1.531678e-03</td>\n",
       "    </tr>\n",
       "    <tr>\n",
       "      <th>10</th>\n",
       "      <td>hohage</td>\n",
       "      <td>43.648828</td>\n",
       "      <td>44.276918</td>\n",
       "      <td>-0.628090</td>\n",
       "      <td>2.259461e-06</td>\n",
       "    </tr>\n",
       "  </tbody>\n",
       "</table>\n",
       "</div>"
      ],
      "text/plain": [
       "    Variable name  Average value (Treatment villages)  \\\n",
       "1        dist_sec                            2.453122   \n",
       "5        min_dist                          107.152915   \n",
       "6        dist_cap                          150.829074   \n",
       "7          hohedu                            2.663139   \n",
       "8          hohwag                          544.339544   \n",
       "9   welfare_index                          655.428377   \n",
       "10         hohage                           43.648828   \n",
       "\n",
       "    Average value (Control villages)  Difference (Treat - Control)  \\\n",
       "1                           2.507662                     -0.054540   \n",
       "5                         103.237854                      3.915060   \n",
       "6                         153.769730                     -2.940656   \n",
       "7                           2.590348                      0.072791   \n",
       "8                         573.163558                    -28.824015   \n",
       "9                         659.579100                     -4.150723   \n",
       "10                         44.276918                     -0.628090   \n",
       "\n",
       "         p-value  \n",
       "1   4.266282e-02  \n",
       "5   7.055795e-16  \n",
       "6   1.146482e-03  \n",
       "7   1.038219e-02  \n",
       "8   3.287285e-04  \n",
       "9   1.531678e-03  \n",
       "10  2.259461e-06  "
      ]
     },
     "execution_count": 67,
     "metadata": {},
     "output_type": "execute_result"
    }
   ],
   "source": [
    "# variables(demographics) that are statistically not different in the treatment and control villages\n",
    "testRes[testRes['p-value']<0.05]"
   ]
  },
  {
   "cell_type": "markdown",
   "metadata": {},
   "source": [
    "### 1.3 Interpretation\n",
    "\n",
    "* A: Are there statistically significant differences between treatment and control villages as baseline? \n",
    "* B: Why does it matter if there are differences at baseline?\n",
    "* C: What does this imply about how to measure the impact of the treatment?"
   ]
  },
  {
   "cell_type": "markdown",
   "metadata": {},
   "source": [
    "A. There are statistically significant differences in some of the demographics of treatment and control villages as baseline.\n",
    "\n",
    "B. If there are already differences in the treatment and control villages, the research design most appropriate would be double difference as it would account for the differences in treatment and control groups even before the treatment or intervention happens.\n",
    "\n",
    "C. The impact would be most appropriately measured by double difference research design."
   ]
  },
  {
   "cell_type": "markdown",
   "metadata": {},
   "source": [
    "### 1.4 Graphical exploration, part 1\n",
    "\n",
    "For each level of household head education, compute the average enrollment rate in 1997. Create a scatterplot that shows this relationship. What do you notice?"
   ]
  },
  {
   "cell_type": "code",
   "execution_count": 68,
   "metadata": {
    "collapsed": false
   },
   "outputs": [
    {
     "data": {
      "text/html": [
       "<div>\n",
       "<table border=\"1\" class=\"dataframe\">\n",
       "  <thead>\n",
       "    <tr style=\"text-align: right;\">\n",
       "      <th></th>\n",
       "      <th>hohedu</th>\n",
       "      <th>sc</th>\n",
       "    </tr>\n",
       "  </thead>\n",
       "  <tbody>\n",
       "    <tr>\n",
       "      <th>1</th>\n",
       "      <td>0</td>\n",
       "      <td>0.768537</td>\n",
       "    </tr>\n",
       "    <tr>\n",
       "      <th>2</th>\n",
       "      <td>1</td>\n",
       "      <td>0.794552</td>\n",
       "    </tr>\n",
       "    <tr>\n",
       "      <th>3</th>\n",
       "      <td>2</td>\n",
       "      <td>0.802956</td>\n",
       "    </tr>\n",
       "    <tr>\n",
       "      <th>4</th>\n",
       "      <td>3</td>\n",
       "      <td>0.842951</td>\n",
       "    </tr>\n",
       "    <tr>\n",
       "      <th>5</th>\n",
       "      <td>4</td>\n",
       "      <td>0.849835</td>\n",
       "    </tr>\n",
       "    <tr>\n",
       "      <th>6</th>\n",
       "      <td>5</td>\n",
       "      <td>0.878469</td>\n",
       "    </tr>\n",
       "    <tr>\n",
       "      <th>7</th>\n",
       "      <td>6</td>\n",
       "      <td>0.889535</td>\n",
       "    </tr>\n",
       "    <tr>\n",
       "      <th>8</th>\n",
       "      <td>7</td>\n",
       "      <td>0.900000</td>\n",
       "    </tr>\n",
       "    <tr>\n",
       "      <th>9</th>\n",
       "      <td>8</td>\n",
       "      <td>0.925023</td>\n",
       "    </tr>\n",
       "    <tr>\n",
       "      <th>10</th>\n",
       "      <td>9</td>\n",
       "      <td>0.865385</td>\n",
       "    </tr>\n",
       "    <tr>\n",
       "      <th>11</th>\n",
       "      <td>10</td>\n",
       "      <td>0.974359</td>\n",
       "    </tr>\n",
       "    <tr>\n",
       "      <th>12</th>\n",
       "      <td>11</td>\n",
       "      <td>0.982955</td>\n",
       "    </tr>\n",
       "    <tr>\n",
       "      <th>13</th>\n",
       "      <td>12</td>\n",
       "      <td>0.959459</td>\n",
       "    </tr>\n",
       "    <tr>\n",
       "      <th>14</th>\n",
       "      <td>13</td>\n",
       "      <td>0.880952</td>\n",
       "    </tr>\n",
       "    <tr>\n",
       "      <th>15</th>\n",
       "      <td>14</td>\n",
       "      <td>0.900000</td>\n",
       "    </tr>\n",
       "    <tr>\n",
       "      <th>16</th>\n",
       "      <td>15</td>\n",
       "      <td>0.941176</td>\n",
       "    </tr>\n",
       "    <tr>\n",
       "      <th>17</th>\n",
       "      <td>16</td>\n",
       "      <td>0.933333</td>\n",
       "    </tr>\n",
       "    <tr>\n",
       "      <th>18</th>\n",
       "      <td>17</td>\n",
       "      <td>1.000000</td>\n",
       "    </tr>\n",
       "    <tr>\n",
       "      <th>19</th>\n",
       "      <td>18</td>\n",
       "      <td>NaN</td>\n",
       "    </tr>\n",
       "    <tr>\n",
       "      <th>20</th>\n",
       "      <td>20</td>\n",
       "      <td>0.500000</td>\n",
       "    </tr>\n",
       "  </tbody>\n",
       "</table>\n",
       "</div>"
      ],
      "text/plain": [
       "    hohedu        sc\n",
       "1        0  0.768537\n",
       "2        1  0.794552\n",
       "3        2  0.802956\n",
       "4        3  0.842951\n",
       "5        4  0.849835\n",
       "6        5  0.878469\n",
       "7        6  0.889535\n",
       "8        7  0.900000\n",
       "9        8  0.925023\n",
       "10       9  0.865385\n",
       "11      10  0.974359\n",
       "12      11  0.982955\n",
       "13      12  0.959459\n",
       "14      13  0.880952\n",
       "15      14  0.900000\n",
       "16      15  0.941176\n",
       "17      16  0.933333\n",
       "18      17  1.000000\n",
       "19      18       NaN\n",
       "20      20  0.500000"
      ]
     },
     "execution_count": 68,
     "metadata": {},
     "output_type": "execute_result"
    }
   ],
   "source": [
    "# creating baseline data\n",
    "baseline = df[df['year']==97]\n",
    "# removing nas in sc variable\n",
    "baseline_mod = baseline[~np.isnan(baseline['sc'])]\n",
    "# grouping enrollments by level of household head education\n",
    "grouped = baseline_mod.ix[:,['sc','hohedu']].groupby(['hohedu']).mean()\n",
    "hohedu_sc = pd.DataFrame({'hohedu':grouped.index,'sc':grouped.sc},index=range(1,len(grouped)+1))\n",
    "hohedu_sc"
   ]
  },
  {
   "cell_type": "code",
   "execution_count": 69,
   "metadata": {
    "collapsed": false
   },
   "outputs": [
    {
     "data": {
      "image/png": "[encoded data removed]",
      "text/plain": [
       "<matplotlib.figure.Figure at 0x23d61a20>"
      ]
     },
     "metadata": {},
     "output_type": "display_data"
    }
   ],
   "source": [
    "# For plotting inline\n",
    "%matplotlib inline\n",
    "# Scatterplot of enrollments Vs level of household head education\n",
    "hohedu_sc.plot(kind='scatter', x='hohedu', y='sc');"
   ]
  },
  {
   "cell_type": "markdown",
   "metadata": {},
   "source": [
    "The scatterplot shows that the enrollments have a positive linear relationship with the level of household head education, except for the highest level of household education."
   ]
  },
  {
   "cell_type": "markdown",
   "metadata": {},
   "source": [
    "### 1.5 Graphical exploration, part 2\n",
    "\n",
    "Create a histogram of village enrollment rates **among poor households in treated villages**, before and after treatment. Specifically, for each village, calculate the average rate of enrollment of poor households in treated villages in 1997, then compute the average rate of enrollment of poor households in treated villages in 1998. Create two separate histograms showing the distribution of these average enrollments rates, one histogram for 1997 and one histogram for 1998. On each histogram, draw a vertical line that intersects the x-axis at the average value (across all households). Does there appear to be a difference? Is this difference statistically significant?"
   ]
  },
  {
   "cell_type": "code",
   "execution_count": 70,
   "metadata": {
    "collapsed": false
   },
   "outputs": [],
   "source": [
    "# extracting relevant datasets\n",
    "poor = df[df['poor']=='pobre']\n",
    "treatment = poor[poor['progresa']==1]\n",
    "pre_treatment = treatment[treatment['year']==97]\n",
    "post_treatment = treatment[treatment['year']==98]"
   ]
  },
  {
   "cell_type": "code",
   "execution_count": 71,
   "metadata": {
    "collapsed": true
   },
   "outputs": [],
   "source": [
    "# removing nas\n",
    "pre_treatment = pre_treatment[~np.isnan(pre_treatment['sc'])]  \n",
    "post_treatment = post_treatment[~np.isnan(post_treatment['sc'])]  "
   ]
  },
  {
   "cell_type": "code",
   "execution_count": 72,
   "metadata": {
    "collapsed": false
   },
   "outputs": [],
   "source": [
    "# calculating average enrollments by village for pre treatment group\n",
    "pre_grouped = pre_treatment.ix[:,['village','sc']].groupby(['village']).mean()\n",
    "x = pd.Series(pre_grouped.index)\n",
    "y = pre_grouped.sc\n",
    "y.index = range(0,len(y))\n",
    "pre_enrollment = pd.DataFrame({'village':x,'sc':y})"
   ]
  },
  {
   "cell_type": "code",
   "execution_count": 73,
   "metadata": {
    "collapsed": false
   },
   "outputs": [],
   "source": [
    "# calculating average enrollments by village for post treatment group\n",
    "post_grouped = post_treatment.ix[:,['village','sc']].groupby(['village']).mean()\n",
    "x = pd.Series(post_grouped.index)\n",
    "y = post_grouped.sc\n",
    "y.index = range(0,len(y))\n",
    "post_enrollment = pd.DataFrame({'village':x,'sc':y})"
   ]
  },
  {
   "cell_type": "code",
   "execution_count": 74,
   "metadata": {
    "collapsed": false
   },
   "outputs": [
    {
     "data": {
      "text/plain": [
       "<matplotlib.lines.Line2D at 0x238eb048>"
      ]
     },
     "execution_count": 74,
     "metadata": {},
     "output_type": "execute_result"
    },
    {
     "data": {
      "image/png": "[encoded data removed]",
      "text/plain": [
       "<matplotlib.figure.Figure at 0x238394e0>"
      ]
     },
     "metadata": {},
     "output_type": "display_data"
    }
   ],
   "source": [
    "# plotting histogram for pre-enrollment rates (1997)\n",
    "plt.hist(pre_enrollment['sc'],color='c')\n",
    "plt.title(\"Average pre-enrollment rate Histogram (1997)\")\n",
    "plt.xlabel(\"Average Enrollment Rate\")\n",
    "plt.ylabel(\"Frequency\")\n",
    "fig = plt.gcf()\n",
    "plt.axvline(pre_enrollment['sc'].mean(), color='r', linestyle='dashed', linewidth=3)"
   ]
  },
  {
   "cell_type": "code",
   "execution_count": 75,
   "metadata": {
    "collapsed": false
   },
   "outputs": [
    {
     "data": {
      "text/plain": [
       "<matplotlib.lines.Line2D at 0x27818cc0>"
      ]
     },
     "execution_count": 75,
     "metadata": {},
     "output_type": "execute_result"
    },
    {
     "data": {
      "image/png": "[encoded data removed]",
      "text/plain": [
       "<matplotlib.figure.Figure at 0x2769c6d8>"
      ]
     },
     "metadata": {},
     "output_type": "display_data"
    }
   ],
   "source": [
    "# plotting histogram for post-enrollment rates (1998)\n",
    "plt.hist(post_enrollment['sc'],color='g')\n",
    "plt.title(\"Average post-enrollment rate Histogram(1998)\")\n",
    "plt.xlabel(\"Average Enrollment Rate\")\n",
    "plt.ylabel(\"Frequency\")\n",
    "fig = plt.gcf()\n",
    "plt.axvline(post_enrollment['sc'].mean(), color='r', linestyle='dashed', linewidth=3)"
   ]
  },
  {
   "cell_type": "code",
   "execution_count": 76,
   "metadata": {
    "collapsed": false
   },
   "outputs": [
    {
     "data": {
      "text/plain": [
       "Ttest_indResult(statistic=-2.0157134865156379, pvalue=0.044249343422588405)"
      ]
     },
     "execution_count": 76,
     "metadata": {},
     "output_type": "execute_result"
    }
   ],
   "source": [
    "# t-test of the average enrollments for pre and post treatment villages\n",
    "sp.ttest_ind(pre_enrollment['sc'],post_enrollment['sc'],equal_var=False)"
   ]
  },
  {
   "cell_type": "markdown",
   "metadata": {},
   "source": [
    "The histogram plots show that there is difference in the average enrollment rates of the villages between 1997 and 1998. This is confirmed by the t-test, which shows that there is a statistically significant difference (p-value < 0.05) in the average enrollment rate for treatment villages in 1997 and 1998."
   ]
  },
  {
   "cell_type": "markdown",
   "metadata": {},
   "source": [
    "## Part 2: Measuring Impact\n",
    "\n",
    "Our goal is to estimate the causal impact of the PROGRESA program on the social and economic outcomes of individuals in Mexico. We will focus on the impact of the program on the poor (those with poor=='pobre'), since only the poor were eligible to receive the PROGRESA assistance.\n",
    "\n",
    "### 2.1 Simple differences: T-test\n",
    "\n",
    "Begin by estimating the impact of Progresa using \"simple differences.\" Restricting yourself to data from 1998 (after treatment), calculate the average enrollment rate among **poor** households in the Treatment villages and the average enrollment rate among **poor** households in the control villages. Use a t-test to determine if this difference is statistically significant. What do you conclude?"
   ]
  },
  {
   "cell_type": "code",
   "execution_count": 77,
   "metadata": {
    "collapsed": false
   },
   "outputs": [],
   "source": [
    "# extracting relevant data\n",
    "endline = poor[poor['year']==98]\n",
    "endline_treatment = endline[endline['progresa']==1]\n",
    "endline_control = endline[endline['progresa']==0]\n",
    "# removing nas\n",
    "endline_treatment = endline_treatment[~np.isnan(endline_treatment['sc'])]  \n",
    "endline_control = endline_control[~np.isnan(endline_control['sc'])]  "
   ]
  },
  {
   "cell_type": "code",
   "execution_count": 78,
   "metadata": {
    "collapsed": false
   },
   "outputs": [],
   "source": [
    "# calculating average enrollments by village for post treatment group\n",
    "treatment_grouped = endline_treatment.ix[:,['village','sc']].groupby(['village']).mean()\n",
    "x = pd.Series(treatment_grouped.index)\n",
    "y = treatment_grouped.sc\n",
    "y.index = range(0,len(y))\n",
    "treatment_enrollment = pd.DataFrame({'village':x,'sc':y})"
   ]
  },
  {
   "cell_type": "code",
   "execution_count": 79,
   "metadata": {
    "collapsed": false
   },
   "outputs": [],
   "source": [
    "# calculating average enrollments by village for post control group\n",
    "control_grouped = endline_control.ix[:,['village','sc']].groupby(['village']).mean()\n",
    "x = pd.Series(control_grouped.index)\n",
    "y = control_grouped.sc\n",
    "y.index = range(0,len(y))\n",
    "control_enrollment = pd.DataFrame({'village':x,'sc':y})"
   ]
  },
  {
   "cell_type": "code",
   "execution_count": 80,
   "metadata": {
    "collapsed": false
   },
   "outputs": [
    {
     "data": {
      "text/plain": [
       "Ttest_indResult(statistic=2.5286761113653493, pvalue=0.01184670373341134)"
      ]
     },
     "execution_count": 80,
     "metadata": {},
     "output_type": "execute_result"
    }
   ],
   "source": [
    "sp.ttest_ind(treatment_enrollment['sc'],control_enrollment['sc'],equal_var=False)"
   ]
  },
  {
   "cell_type": "markdown",
   "metadata": {},
   "source": [
    "The t-test shows that there is a statistically significant difference (p-value < 0.05) between the average enrollment rates in treatment and control villages in 1998."
   ]
  },
  {
   "cell_type": "markdown",
   "metadata": {},
   "source": [
    "### 2.2 Simple differences: Regression\n",
    "\n",
    "Estimate the effects of Progresa on enrollment using a regression model, by regressing the 1998 enrollment rates **of the poor** on treatment assignment. Discuss the following:\n",
    "\n",
    "* Based on this model, how much did Progresa increase the likelihood of a child enrolling?\n",
    "* How does your regression estimate compare to your t-test estimate from part 2.1?\n",
    "* Based on this regression model, can we reject the null hypothesis that the treatment effects are zero? \n",
    "* What is the counterfactual assumption underlying this regression?"
   ]
  },
  {
   "cell_type": "code",
   "execution_count": 81,
   "metadata": {
    "collapsed": false
   },
   "outputs": [],
   "source": [
    "#removing nas\n",
    "endline = endline[~np.isnan(endline['sc'])]"
   ]
  },
  {
   "cell_type": "code",
   "execution_count": 82,
   "metadata": {
    "collapsed": false
   },
   "outputs": [
    {
     "name": "stdout",
     "output_type": "stream",
     "text": [
      "                            OLS Regression Results                            \n",
      "==============================================================================\n",
      "Dep. Variable:                     sc   R-squared:                       0.003\n",
      "Model:                            OLS   Adj. R-squared:                  0.003\n",
      "Method:                 Least Squares   F-statistic:                     69.87\n",
      "Date:                Tue, 26 Jan 2016   Prob (F-statistic):           6.64e-17\n",
      "Time:                        11:40:40   Log-Likelihood:                -11926.\n",
      "No. Observations:               27450   AIC:                         2.386e+04\n",
      "Df Residuals:                   27448   BIC:                         2.387e+04\n",
      "Df Model:                           1                                         \n",
      "Covariance Type:            nonrobust                                         \n",
      "==============================================================================\n",
      "                 coef    std err          t      P>|t|      [95.0% Conf. Int.]\n",
      "------------------------------------------------------------------------------\n",
      "const          0.8076      0.004    220.676      0.000         0.800     0.815\n",
      "progresa       0.0388      0.005      8.359      0.000         0.030     0.048\n",
      "==============================================================================\n",
      "Omnibus:                     7638.939   Durbin-Watson:                   1.734\n",
      "Prob(Omnibus):                  0.000   Jarque-Bera (JB):            15767.534\n",
      "Skew:                          -1.767   Prob(JB):                         0.00\n",
      "Kurtosis:                       4.140   Cond. No.                         3.01\n",
      "==============================================================================\n",
      "\n",
      "Warnings:\n",
      "[1] Standard Errors assume that the covariance matrix of the errors is correctly specified.\n"
     ]
    }
   ],
   "source": [
    "# OLS Regression for enrollments and treatment assignment\n",
    "x = endline['progresa']\n",
    "y = endline['sc']\n",
    "x = sm.add_constant(x)\n",
    "results = sm.OLS(y, x).fit()\n",
    "print results.summary()"
   ]
  },
  {
   "cell_type": "markdown",
   "metadata": {},
   "source": [
    "* Based on this model, how much did Progresa increase the likelihood of a child enrolling?\n",
    "\n",
    "The regresssion shows that there is a statistically significant relationship between treatment assignment and enrollment rates of the poor. \n",
    "The relationship between treatment assignment and enrollment rates of the poor is given by -\n",
    "enrollment_rate = 0.8076 + 0.0388 * treatment_assignment + error_term\n",
    "\n",
    "This means that for the treatment villages the average enrollment rate is 0.8464, whereas for the control villages, it is 0.8076.\n",
    "\n",
    "According to the regression, the Progresa program increased the child enrollment by 0.0388.\n",
    "\n",
    "* How does your regression estimate compare to your t-test estimate from part 2.1?\n",
    "\n",
    "The t-value and p-value from the t-test suggest that there is a statistically significant difference between the enrollment rates of the treatment and control villages. The regression confirms this since there is an average enrollment rate difference of about 0.0388 between treatment and control villages. The p-value of the progresa variable confirms that there is a statistically significant difference between the enrollment rates of the treatment and control villages.\n",
    "\n",
    "* Based on this regression model, can we reject the null hypothesis that the treatment effects are zero? \n",
    "\n",
    "Based on the regression model, we can reject the null hypothesis that the treatment effects are zero, as the p-value is very close to zero.\n",
    "\n",
    "* What is the counterfactual assumption underlying this regression?\n",
    "\n",
    "The counterfactual assumption underlying this regression is that, in the absence of treatment, the enrollment rates of the treatment villages would be same as the control villages."
   ]
  },
  {
   "cell_type": "markdown",
   "metadata": {},
   "source": [
    "### 2.3 Multiple Regression\n",
    "\n",
    "Re-run the above regression estimated but this time include a set of control variables. Include, for instance, age, distance to a secondary school, gender, education of household head, welfare index, indigenous, etc.\n",
    "\n",
    "* How do the controls affect the point estimate of treatment effect?\n",
    "* How do the controls affect the standard error on the treatment effect? \n",
    "* How do you interpret the differences (or similarities) between your estimates of 2.2 and 2.3?"
   ]
  },
  {
   "cell_type": "code",
   "execution_count": 83,
   "metadata": {
    "collapsed": false
   },
   "outputs": [],
   "source": [
    "#removing nas\n",
    "endline = endline[~np.isnan(endline['sc'])]\n",
    "endline = endline[~np.isnan(endline['progresa'])]\n",
    "endline = endline[~np.isnan(endline['fam_n'])]\n",
    "endline = endline[~np.isnan(endline['grc'])]\n",
    "endline = endline[~np.isnan(endline['age'])]"
   ]
  },
  {
   "cell_type": "code",
   "execution_count": 84,
   "metadata": {
    "collapsed": false
   },
   "outputs": [
    {
     "name": "stdout",
     "output_type": "stream",
     "text": [
      "                            OLS Regression Results                            \n",
      "==============================================================================\n",
      "Dep. Variable:                     sc   R-squared:                       0.290\n",
      "Model:                            OLS   Adj. R-squared:                  0.290\n",
      "Method:                 Least Squares   F-statistic:                     2798.\n",
      "Date:                Tue, 26 Jan 2016   Prob (F-statistic):               0.00\n",
      "Time:                        11:40:40   Log-Likelihood:                -7249.0\n",
      "No. Observations:               27390   AIC:                         1.451e+04\n",
      "Df Residuals:                   27385   BIC:                         1.455e+04\n",
      "Df Model:                           4                                         \n",
      "Covariance Type:            nonrobust                                         \n",
      "==============================================================================\n",
      "                 coef    std err          t      P>|t|      [95.0% Conf. Int.]\n",
      "------------------------------------------------------------------------------\n",
      "const          1.7399      0.011    157.542      0.000         1.718     1.762\n",
      "progresa       0.0345      0.004      8.794      0.000         0.027     0.042\n",
      "fam_n         -0.0001      0.001     -0.123      0.902        -0.002     0.002\n",
      "grc            0.0535      0.001     37.098      0.000         0.051     0.056\n",
      "age           -0.1019      0.001    -86.430      0.000        -0.104    -0.100\n",
      "==============================================================================\n",
      "Omnibus:                     3458.302   Durbin-Watson:                   1.705\n",
      "Prob(Omnibus):                  0.000   Jarque-Bera (JB):             4936.969\n",
      "Skew:                          -0.981   Prob(JB):                         0.00\n",
      "Kurtosis:                       3.691   Cond. No.                         84.6\n",
      "==============================================================================\n",
      "\n",
      "Warnings:\n",
      "[1] Standard Errors assume that the covariance matrix of the errors is correctly specified.\n"
     ]
    }
   ],
   "source": [
    "# OLS regression for enrollments\n",
    "x = endline[['progresa','fam_n','grc','age']]\n",
    "y = endline['sc']\n",
    "x = sm.add_constant(x)\n",
    "model = sm.OLS(y,x)\n",
    "result = model.fit()\n",
    "print result.summary()"
   ]
  },
  {
   "cell_type": "markdown",
   "metadata": {},
   "source": [
    "* How do the controls affect the point estimate of treatment effect?\n",
    "\n",
    "The multivariate regression shows that there is a statistically significant relationship between enrollment rates and treatment assignment, grade that the child is enrolled in and age of the child enrolled. Of the 3 predictors, age of the child has the most impact on the enrollment rate, namely -0.1019. The point estimate for the predictor variable reduces by about 0.0043 when the control variables are added.\n",
    "\n",
    "* How do the controls affect the standard error on the treatment effect? \n",
    "\n",
    "The standard error for the progresa variable in question 2.2 is 0.005, whereas the standard error in 2.3 is  0.004. The standard error for the estimating the progresa variable reduces when the control variables are added.\n",
    "\n",
    "* How do you interpret the differences (or similarities) between your estimates of 2.2 and 2.3?\n",
    "\n",
    "In 2.2, the point estimate for the treatment assignment (progresa variable) is 0.0388, whereas in 2.3, the point estimate when adding the control variables is 0.0345. The point estimate for the predictor variable reduces when the control variables are added. The coefficient estimates and standard errors are hardly much different in 2.2 and 2.3, suggesting that the treatment assignment (progresa) variable is not correlated with the control variables used in the regression. "
   ]
  },
  {
   "cell_type": "markdown",
   "metadata": {},
   "source": [
    "### 2.4 Difference-in-Difference, version 1 (tabular)\n",
    "\n",
    "Thus far, we have computed the effects of Progresa by estimating the difference in 1998 enrollment rates across villages. An alternative approach would be to compute the treatment effect using a difference-in-differences framework.\n",
    "\n",
    "Begin by estimating the average treatment effects of the program for poor households using data from 1997 and 1998. Specifically, calculate the difference (between 1997 and 1998) in enrollment rates among poor households in treated villages; then compute the difference (between 1997 and 1998) in enrollment rates among poor households in control villages. The difference between these two differences is your estimate.\n",
    "\n",
    "* What is your estimate of the impact, and how does it compare to your earlier (simple difference) results?\n",
    "* What is the counterfactual assumption underlying this estimate? \n"
   ]
  },
  {
   "cell_type": "code",
   "execution_count": 85,
   "metadata": {
    "collapsed": false
   },
   "outputs": [],
   "source": [
    "# extracting relevant data\n",
    "poor = df[df['poor']=='pobre']\n",
    "baseline = poor[poor['year']==97]\n",
    "endline = poor[poor['year']==98]\n",
    "# removing nas\n",
    "baseline = baseline[~np.isnan(baseline['sc'])]  \n",
    "endline = endline[~np.isnan(endline['sc'])]  "
   ]
  },
  {
   "cell_type": "code",
   "execution_count": 86,
   "metadata": {
    "collapsed": false
   },
   "outputs": [],
   "source": [
    "# categorizing the data into pre/post and treatment/control\n",
    "baseline_treatment = baseline[baseline['progresa']==1]\n",
    "baseline_control = baseline[baseline['progresa']==0]\n",
    "endline_treatment = endline[endline['progresa']==1]\n",
    "endline_control = endline[endline['progresa']==0]"
   ]
  },
  {
   "cell_type": "code",
   "execution_count": 87,
   "metadata": {
    "collapsed": false
   },
   "outputs": [],
   "source": [
    "# calculating average enrollments by village for baseline(pre) treatment group\n",
    "baseline_treatment_grouped = baseline_treatment.ix[:,['village','sc']].groupby(['village']).mean()\n",
    "x = pd.Series(baseline_treatment_grouped.index)\n",
    "y = baseline_treatment_grouped.sc\n",
    "y.index = range(0,len(y))\n",
    "baseline_treatment_enrollment = pd.DataFrame({'village':x,'sc':y})"
   ]
  },
  {
   "cell_type": "code",
   "execution_count": 88,
   "metadata": {
    "collapsed": false
   },
   "outputs": [],
   "source": [
    "# calculating average enrollments by village for baseline(pre) control group\n",
    "baseline_control_grouped = baseline_control.ix[:,['village','sc']].groupby(['village']).mean()\n",
    "x = pd.Series(baseline_control_grouped.index)\n",
    "y = baseline_control_grouped.sc\n",
    "y.index = range(0,len(y))\n",
    "baseline_control_enrollment = pd.DataFrame({'village':x,'sc':y})"
   ]
  },
  {
   "cell_type": "code",
   "execution_count": 89,
   "metadata": {
    "collapsed": false
   },
   "outputs": [],
   "source": [
    "# calculating average enrollments by village for endline(post) treatment group\n",
    "endline_treatment_grouped = endline_treatment.ix[:,['village','sc']].groupby(['village']).mean()\n",
    "x = pd.Series(endline_treatment_grouped.index)\n",
    "y = endline_treatment_grouped.sc\n",
    "y.index = range(0,len(y))\n",
    "endline_treatment_enrollment = pd.DataFrame({'village':x,'sc':y})"
   ]
  },
  {
   "cell_type": "code",
   "execution_count": 90,
   "metadata": {
    "collapsed": false
   },
   "outputs": [],
   "source": [
    "# calculating average enrollments by village for endline(post) control group\n",
    "endline_control_grouped = endline_control.ix[:,['village','sc']].groupby(['village']).mean()\n",
    "x = pd.Series(endline_control_grouped.index)\n",
    "y = endline_control_grouped.sc\n",
    "y.index = range(0,len(y))\n",
    "endline_control_enrollment = pd.DataFrame({'village':x,'sc':y})"
   ]
  },
  {
   "cell_type": "code",
   "execution_count": 91,
   "metadata": {
    "collapsed": false
   },
   "outputs": [],
   "source": [
    "# calculating difference in treatment villages\n",
    "treatment_diff = pd.merge(baseline_treatment_enrollment,endline_treatment_enrollment,on=['village'], how='inner',suffixes=('_97', '_98'))\n",
    "diff = treatment_diff['sc_98']-treatment_diff['sc_97']\n",
    "treatment_diff = pd.concat([treatment_diff, diff], axis=1, join= 'inner')\n",
    "treatment_diff.columns = ['sc_97','village','sc_98','difference']"
   ]
  },
  {
   "cell_type": "code",
   "execution_count": 92,
   "metadata": {
    "collapsed": false
   },
   "outputs": [],
   "source": [
    "# calculating difference in control villages\n",
    "control_diff = pd.merge(baseline_control_enrollment,endline_control_enrollment,on=['village'], how='inner',suffixes=('_97', '_98'))\n",
    "diff = control_diff['sc_98']-control_diff['sc_97']\n",
    "control_diff = pd.concat([control_diff, diff], axis=1, join= 'inner')\n",
    "control_diff.columns = ['sc_97','village','sc_98','difference']"
   ]
  },
  {
   "cell_type": "code",
   "execution_count": 93,
   "metadata": {
    "collapsed": false
   },
   "outputs": [
    {
     "data": {
      "text/plain": [
       "0.02328852365969893"
      ]
     },
     "execution_count": 93,
     "metadata": {},
     "output_type": "execute_result"
    }
   ],
   "source": [
    "# difference-in-difference impact evaluation\n",
    "treatment_diff['difference'].mean()-control_diff['difference'].mean()"
   ]
  },
  {
   "cell_type": "markdown",
   "metadata": {},
   "source": [
    "* What is your estimate of the impact, and how does it compare to your earlier (simple difference) results?\n",
    "\n",
    "The estimated impact due to double difference (tabular) is about 0.0233 unit increase in average enrollment rates due to the Progressa program. The point estimate of the impact is lower than the point estimate of the impact calculated by simple difference (0.0388).\n",
    "\n",
    "* What is the counterfactual assumption underlying this estimate? \n",
    "\n",
    "The counterfactual assumption is that, in the absence of the treatment, the average enrollment rates for the treatment villages in the year of 1998 would form the counterfactual. This is based on the parallel trend assumption which states that the difference between the treatment and the control groups will follow a parallel trend in the absence of treatment or intervention.\n"
   ]
  },
  {
   "cell_type": "markdown",
   "metadata": {},
   "source": [
    "### 2.5 Difference-in-Difference, version 1 (regression)\n",
    "\n",
    "Now use a regression specification to estimate the average treatment effects of the program in a difference-in-differences framework. Include at least 5 control variables.\n",
    "\n",
    "* What is your estimate of the impact of Progresa? Be very specific in interpreting your coefficients and standard errors, and make sure to specify exactly what units you are measuring and estimating.\n",
    "* How do these estimates of the treatment effect compare to the estimates based on the simple difference?\n",
    "* How do these estimates compare to the difference-in-difference estimates from 2.4 above? What accounts for these differences?\n",
    "* What is the counterfactual assumption underlying this regression? "
   ]
  },
  {
   "cell_type": "code",
   "execution_count": 94,
   "metadata": {
    "collapsed": false
   },
   "outputs": [],
   "source": [
    "# Creating a new variable for double difference estimation\n",
    "dd = df[df['poor']=='pobre']\n",
    "#removing nas\n",
    "dd = dd[~np.isnan(dd['sc'])]\n",
    "dd = dd[~np.isnan(dd['progresa'])]\n",
    "dd = dd[~np.isnan(dd['fam_n'])]\n",
    "dd = dd[~np.isnan(dd['grc'])]\n",
    "dd = dd[~np.isnan(dd['age'])]\n",
    "dd = dd[~np.isnan(dd['dist_sec'])]\n",
    "dd = dd[~np.isnan(dd['hohedu'])]\n",
    "# Adding a new binary column for the pre-post category\n",
    "dd['post'] = dd['year'].map({97: 0, 98: 1})"
   ]
  },
  {
   "cell_type": "code",
   "execution_count": 95,
   "metadata": {
    "collapsed": false
   },
   "outputs": [
    {
     "data": {
      "text/html": [
       "<table class=\"simpletable\">\n",
       "<caption>OLS Regression Results</caption>\n",
       "<tr>\n",
       "  <th>Dep. Variable:</th>           <td>sc</td>        <th>  R-squared:         </th> <td>   0.300</td> \n",
       "</tr>\n",
       "<tr>\n",
       "  <th>Model:</th>                   <td>OLS</td>       <th>  Adj. R-squared:    </th> <td>   0.300</td> \n",
       "</tr>\n",
       "<tr>\n",
       "  <th>Method:</th>             <td>Least Squares</td>  <th>  F-statistic:       </th> <td>   2782.</td> \n",
       "</tr>\n",
       "<tr>\n",
       "  <th>Date:</th>             <td>Tue, 26 Jan 2016</td> <th>  Prob (F-statistic):</th>  <td>  0.00</td>  \n",
       "</tr>\n",
       "<tr>\n",
       "  <th>Time:</th>                 <td>11:40:40</td>     <th>  Log-Likelihood:    </th> <td> -15847.</td> \n",
       "</tr>\n",
       "<tr>\n",
       "  <th>No. Observations:</th>      <td> 58312</td>      <th>  AIC:               </th> <td>3.171e+04</td>\n",
       "</tr>\n",
       "<tr>\n",
       "  <th>Df Residuals:</th>          <td> 58302</td>      <th>  BIC:               </th> <td>3.180e+04</td>\n",
       "</tr>\n",
       "<tr>\n",
       "  <th>Df Model:</th>              <td>     9</td>      <th>                     </th>     <td> </td>    \n",
       "</tr>\n",
       "<tr>\n",
       "  <th>Covariance Type:</th>      <td>nonrobust</td>    <th>                     </th>     <td> </td>    \n",
       "</tr>\n",
       "</table>\n",
       "<table class=\"simpletable\">\n",
       "<tr>\n",
       "        <td></td>           <th>coef</th>     <th>std err</th>      <th>t</th>      <th>P>|t|</th> <th>[95.0% Conf. Int.]</th> \n",
       "</tr>\n",
       "<tr>\n",
       "  <th>Intercept</th>     <td>    1.6766</td> <td>    0.009</td> <td>  195.937</td> <td> 0.000</td> <td>    1.660     1.693</td>\n",
       "</tr>\n",
       "<tr>\n",
       "  <th>progresa</th>      <td>    0.0076</td> <td>    0.004</td> <td>    2.018</td> <td> 0.044</td> <td>    0.000     0.015</td>\n",
       "</tr>\n",
       "<tr>\n",
       "  <th>post</th>          <td>    0.0249</td> <td>    0.004</td> <td>    5.811</td> <td> 0.000</td> <td>    0.016     0.033</td>\n",
       "</tr>\n",
       "<tr>\n",
       "  <th>progresa:post</th> <td>    0.0297</td> <td>    0.005</td> <td>    5.479</td> <td> 0.000</td> <td>    0.019     0.040</td>\n",
       "</tr>\n",
       "<tr>\n",
       "  <th>village</th>       <td> 5.711e-05</td> <td>    9e-06</td> <td>    6.344</td> <td> 0.000</td> <td> 3.95e-05  7.48e-05</td>\n",
       "</tr>\n",
       "<tr>\n",
       "  <th>fam_n</th>         <td>  3.12e-05</td> <td>    0.001</td> <td>    0.055</td> <td> 0.956</td> <td>   -0.001     0.001</td>\n",
       "</tr>\n",
       "<tr>\n",
       "  <th>grc</th>           <td>    0.0478</td> <td>    0.001</td> <td>   47.333</td> <td> 0.000</td> <td>    0.046     0.050</td>\n",
       "</tr>\n",
       "<tr>\n",
       "  <th>age</th>           <td>   -0.0976</td> <td>    0.001</td> <td> -119.809</td> <td> 0.000</td> <td>   -0.099    -0.096</td>\n",
       "</tr>\n",
       "<tr>\n",
       "  <th>dist_sec</th>      <td>   -0.0063</td> <td>    0.001</td> <td>  -10.224</td> <td> 0.000</td> <td>   -0.008    -0.005</td>\n",
       "</tr>\n",
       "<tr>\n",
       "  <th>hohedu</th>        <td>    0.0041</td> <td>    0.001</td> <td>    7.585</td> <td> 0.000</td> <td>    0.003     0.005</td>\n",
       "</tr>\n",
       "</table>\n",
       "<table class=\"simpletable\">\n",
       "<tr>\n",
       "  <th>Omnibus:</th>       <td>6193.941</td> <th>  Durbin-Watson:     </th> <td>   1.497</td>\n",
       "</tr>\n",
       "<tr>\n",
       "  <th>Prob(Omnibus):</th>  <td> 0.000</td>  <th>  Jarque-Bera (JB):  </th> <td>8348.945</td>\n",
       "</tr>\n",
       "<tr>\n",
       "  <th>Skew:</th>           <td>-0.895</td>  <th>  Prob(JB):          </th> <td>    0.00</td>\n",
       "</tr>\n",
       "<tr>\n",
       "  <th>Kurtosis:</th>       <td> 3.480</td>  <th>  Cond. No.          </th> <td>2.03e+03</td>\n",
       "</tr>\n",
       "</table>"
      ],
      "text/plain": [
       "<class 'statsmodels.iolib.summary.Summary'>\n",
       "\"\"\"\n",
       "                            OLS Regression Results                            \n",
       "==============================================================================\n",
       "Dep. Variable:                     sc   R-squared:                       0.300\n",
       "Model:                            OLS   Adj. R-squared:                  0.300\n",
       "Method:                 Least Squares   F-statistic:                     2782.\n",
       "Date:                Tue, 26 Jan 2016   Prob (F-statistic):               0.00\n",
       "Time:                        11:40:40   Log-Likelihood:                -15847.\n",
       "No. Observations:               58312   AIC:                         3.171e+04\n",
       "Df Residuals:                   58302   BIC:                         3.180e+04\n",
       "Df Model:                           9                                         \n",
       "Covariance Type:            nonrobust                                         \n",
       "=================================================================================\n",
       "                    coef    std err          t      P>|t|      [95.0% Conf. Int.]\n",
       "---------------------------------------------------------------------------------\n",
       "Intercept         1.6766      0.009    195.937      0.000         1.660     1.693\n",
       "progresa          0.0076      0.004      2.018      0.044         0.000     0.015\n",
       "post              0.0249      0.004      5.811      0.000         0.016     0.033\n",
       "progresa:post     0.0297      0.005      5.479      0.000         0.019     0.040\n",
       "village        5.711e-05      9e-06      6.344      0.000      3.95e-05  7.48e-05\n",
       "fam_n           3.12e-05      0.001      0.055      0.956        -0.001     0.001\n",
       "grc               0.0478      0.001     47.333      0.000         0.046     0.050\n",
       "age              -0.0976      0.001   -119.809      0.000        -0.099    -0.096\n",
       "dist_sec         -0.0063      0.001    -10.224      0.000        -0.008    -0.005\n",
       "hohedu            0.0041      0.001      7.585      0.000         0.003     0.005\n",
       "==============================================================================\n",
       "Omnibus:                     6193.941   Durbin-Watson:                   1.497\n",
       "Prob(Omnibus):                  0.000   Jarque-Bera (JB):             8348.945\n",
       "Skew:                          -0.895   Prob(JB):                         0.00\n",
       "Kurtosis:                       3.480   Cond. No.                     2.03e+03\n",
       "==============================================================================\n",
       "\n",
       "Warnings:\n",
       "[1] Standard Errors assume that the covariance matrix of the errors is correctly specified.\n",
       "[2] The condition number is large, 2.03e+03. This might indicate that there are\n",
       "strong multicollinearity or other numerical problems.\n",
       "\"\"\""
      ]
     },
     "execution_count": 95,
     "metadata": {},
     "output_type": "execute_result"
    }
   ],
   "source": [
    "# difference-in-difference regression\n",
    "results = smf.ols(formula='sc ~ progresa * post + village + fam_n + grc + age + dist_sec + hohedu', data=dd).fit()\n",
    "results.summary()"
   ]
  },
  {
   "cell_type": "markdown",
   "metadata": {},
   "source": [
    "* What is your estimate of the impact of Progresa? Be very specific in interpreting your coefficients and standard errors, and make sure to specify exactly what units you are measuring and estimating.\n",
    "\n",
    "The impact of Progresa estimated by regression is about 0.0297. The difference-in-difference regression shows that the average enrollment rates has statistically significant relationship with treatment assignment (progresa variable), post (pre-post variable), interaction between progresa and post variable, village, grade that the child has enrolled in, age of child, nearest distance to a secondary school and years of schooling of head of household. The standard error is highest for the estimate of the intercept. For most predictors, the standard error is close to 0.001. This gives us the confidence in the estimated coefficients as their standard error is very close to zero. The mean age of the child seems to have the highest coefficient estimate of 0.098. \n",
    "\n",
    "Result of the regression -\n",
    "sc = 1.6766 + 0.0076(progresa) + 0.0249 (post) + 0.0297 (progesa X post) + 5.711e-05(village) + 3.12e-05(fam_n_mean) + 0.0478 ( grc_mean) + (-0.0976)(age_mean) + (-0.0063)(dist_sec_mean) + 0.0041 (hohedu_mean)\n",
    "\n",
    "* How do these estimates of the treatment effect compare to the estimates based on the simple difference?\n",
    "\n",
    "The estimate of the impact is lower when using double difference, namely 0.0297 whereas the estimate of impact using simple difference is higher, namely 0.0388.\n",
    "\n",
    "* How do these estimates compare to the difference-in-difference estimates from 2.4 above? What accounts for these differences?\n",
    "\n",
    "The estimate of the impact using difference-in-difference regression is 0.0297 which is slightly higher than the estimate of 0.0233 obtained in 2.4 question. The slight difference could be due to the errors in estimation both in the regression and the tabular method.\n",
    "\n",
    "* What is the counterfactual assumption underlying this regression?\n",
    "\n",
    "The counterfactual assumption is that, in the absence of the treatment, the trends in the treatment and control group would have been the same.\n"
   ]
  },
  {
   "cell_type": "markdown",
   "metadata": {},
   "source": [
    "### 2.6 Difference-in-Difference, version 2\n",
    "\n",
    "In the previous problem, you estimated a difference-in-differences model that compared changes in enrollment rates over time across treatment and control villages. An alternative approach would be to compare enrollment rates in 1998 between poor and non-poor across treatment and control villages. \n",
    "\n",
    "* How would we estimate this version of the treatment effects in a regression model? \n",
    "* What is the counterfactual assumption underlying this regression?\n",
    "* How do these treatment effects compare to the estimates above?\n",
    "* Discuss some possible explanations for differences or similarities "
   ]
  },
  {
   "cell_type": "code",
   "execution_count": 96,
   "metadata": {
    "collapsed": false
   },
   "outputs": [],
   "source": [
    "# extracting 1998 data\n",
    "dd2 = df[df['year']==98]\n",
    "#removing nas\n",
    "dd2 = dd2[~np.isnan(dd2['sc'])]\n",
    "dd2 = dd2[~np.isnan(dd2['progresa'])]\n",
    "dd2 = dd2[~np.isnan(dd2['fam_n'])]\n",
    "dd2 = dd2[~np.isnan(dd2['grc'])]\n",
    "dd2 = dd2[~np.isnan(dd2['age'])]\n",
    "dd2 = dd2[~np.isnan(dd2['dist_sec'])]\n",
    "dd2 = dd2[~np.isnan(dd2['hohedu'])]\n",
    "# mapping the poor variable to binary value\n",
    "dd2['poor_var'] = dd2['poor'].map({'pobre': 1, 'no pobre': 0})"
   ]
  },
  {
   "cell_type": "code",
   "execution_count": 97,
   "metadata": {
    "collapsed": false
   },
   "outputs": [
    {
     "data": {
      "text/html": [
       "<table class=\"simpletable\">\n",
       "<caption>OLS Regression Results</caption>\n",
       "<tr>\n",
       "  <th>Dep. Variable:</th>           <td>sc</td>        <th>  R-squared:         </th> <td>   0.297</td> \n",
       "</tr>\n",
       "<tr>\n",
       "  <th>Model:</th>                   <td>OLS</td>       <th>  Adj. R-squared:    </th> <td>   0.297</td> \n",
       "</tr>\n",
       "<tr>\n",
       "  <th>Method:</th>             <td>Least Squares</td>  <th>  F-statistic:       </th> <td>   1501.</td> \n",
       "</tr>\n",
       "<tr>\n",
       "  <th>Date:</th>             <td>Tue, 26 Jan 2016</td> <th>  Prob (F-statistic):</th>  <td>  0.00</td>  \n",
       "</tr>\n",
       "<tr>\n",
       "  <th>Time:</th>                 <td>11:40:41</td>     <th>  Log-Likelihood:    </th> <td> -8706.9</td> \n",
       "</tr>\n",
       "<tr>\n",
       "  <th>No. Observations:</th>      <td> 32032</td>      <th>  AIC:               </th> <td>1.743e+04</td>\n",
       "</tr>\n",
       "<tr>\n",
       "  <th>Df Residuals:</th>          <td> 32022</td>      <th>  BIC:               </th> <td>1.752e+04</td>\n",
       "</tr>\n",
       "<tr>\n",
       "  <th>Df Model:</th>              <td>     9</td>      <th>                     </th>     <td> </td>    \n",
       "</tr>\n",
       "<tr>\n",
       "  <th>Covariance Type:</th>      <td>nonrobust</td>    <th>                     </th>     <td> </td>    \n",
       "</tr>\n",
       "</table>\n",
       "<table class=\"simpletable\">\n",
       "<tr>\n",
       "          <td></td>             <th>coef</th>     <th>std err</th>      <th>t</th>      <th>P>|t|</th> <th>[95.0% Conf. Int.]</th> \n",
       "</tr>\n",
       "<tr>\n",
       "  <th>Intercept</th>         <td>    1.7177</td> <td>    0.014</td> <td>  127.063</td> <td> 0.000</td> <td>    1.691     1.744</td>\n",
       "</tr>\n",
       "<tr>\n",
       "  <th>progresa</th>          <td>    0.0280</td> <td>    0.010</td> <td>    2.940</td> <td> 0.003</td> <td>    0.009     0.047</td>\n",
       "</tr>\n",
       "<tr>\n",
       "  <th>poor_var</th>          <td>    0.0134</td> <td>    0.008</td> <td>    1.661</td> <td> 0.097</td> <td>   -0.002     0.029</td>\n",
       "</tr>\n",
       "<tr>\n",
       "  <th>progresa:poor_var</th> <td>    0.0088</td> <td>    0.010</td> <td>    0.855</td> <td> 0.393</td> <td>   -0.011     0.029</td>\n",
       "</tr>\n",
       "<tr>\n",
       "  <th>village</th>           <td> 5.498e-05</td> <td> 1.23e-05</td> <td>    4.465</td> <td> 0.000</td> <td> 3.08e-05  7.91e-05</td>\n",
       "</tr>\n",
       "<tr>\n",
       "  <th>fam_n</th>             <td>   -0.0004</td> <td>    0.001</td> <td>   -0.482</td> <td> 0.629</td> <td>   -0.002     0.001</td>\n",
       "</tr>\n",
       "<tr>\n",
       "  <th>grc</th>               <td>    0.0524</td> <td>    0.001</td> <td>   38.306</td> <td> 0.000</td> <td>    0.050     0.055</td>\n",
       "</tr>\n",
       "<tr>\n",
       "  <th>age</th>               <td>   -0.1018</td> <td>    0.001</td> <td>  -90.230</td> <td> 0.000</td> <td>   -0.104    -0.100</td>\n",
       "</tr>\n",
       "<tr>\n",
       "  <th>dist_sec</th>          <td>   -0.0072</td> <td>    0.001</td> <td>   -8.723</td> <td> 0.000</td> <td>   -0.009    -0.006</td>\n",
       "</tr>\n",
       "<tr>\n",
       "  <th>hohedu</th>            <td>    0.0057</td> <td>    0.001</td> <td>    8.290</td> <td> 0.000</td> <td>    0.004     0.007</td>\n",
       "</tr>\n",
       "</table>\n",
       "<table class=\"simpletable\">\n",
       "<tr>\n",
       "  <th>Omnibus:</th>       <td>3576.663</td> <th>  Durbin-Watson:     </th> <td>   1.721</td>\n",
       "</tr>\n",
       "<tr>\n",
       "  <th>Prob(Omnibus):</th>  <td> 0.000</td>  <th>  Jarque-Bera (JB):  </th> <td>4892.221</td>\n",
       "</tr>\n",
       "<tr>\n",
       "  <th>Skew:</th>           <td>-0.920</td>  <th>  Prob(JB):          </th> <td>    0.00</td>\n",
       "</tr>\n",
       "<tr>\n",
       "  <th>Kurtosis:</th>       <td> 3.531</td>  <th>  Cond. No.          </th> <td>2.92e+03</td>\n",
       "</tr>\n",
       "</table>"
      ],
      "text/plain": [
       "<class 'statsmodels.iolib.summary.Summary'>\n",
       "\"\"\"\n",
       "                            OLS Regression Results                            \n",
       "==============================================================================\n",
       "Dep. Variable:                     sc   R-squared:                       0.297\n",
       "Model:                            OLS   Adj. R-squared:                  0.297\n",
       "Method:                 Least Squares   F-statistic:                     1501.\n",
       "Date:                Tue, 26 Jan 2016   Prob (F-statistic):               0.00\n",
       "Time:                        11:40:41   Log-Likelihood:                -8706.9\n",
       "No. Observations:               32032   AIC:                         1.743e+04\n",
       "Df Residuals:                   32022   BIC:                         1.752e+04\n",
       "Df Model:                           9                                         \n",
       "Covariance Type:            nonrobust                                         \n",
       "=====================================================================================\n",
       "                        coef    std err          t      P>|t|      [95.0% Conf. Int.]\n",
       "-------------------------------------------------------------------------------------\n",
       "Intercept             1.7177      0.014    127.063      0.000         1.691     1.744\n",
       "progresa              0.0280      0.010      2.940      0.003         0.009     0.047\n",
       "poor_var              0.0134      0.008      1.661      0.097        -0.002     0.029\n",
       "progresa:poor_var     0.0088      0.010      0.855      0.393        -0.011     0.029\n",
       "village            5.498e-05   1.23e-05      4.465      0.000      3.08e-05  7.91e-05\n",
       "fam_n                -0.0004      0.001     -0.482      0.629        -0.002     0.001\n",
       "grc                   0.0524      0.001     38.306      0.000         0.050     0.055\n",
       "age                  -0.1018      0.001    -90.230      0.000        -0.104    -0.100\n",
       "dist_sec             -0.0072      0.001     -8.723      0.000        -0.009    -0.006\n",
       "hohedu                0.0057      0.001      8.290      0.000         0.004     0.007\n",
       "==============================================================================\n",
       "Omnibus:                     3576.663   Durbin-Watson:                   1.721\n",
       "Prob(Omnibus):                  0.000   Jarque-Bera (JB):             4892.221\n",
       "Skew:                          -0.920   Prob(JB):                         0.00\n",
       "Kurtosis:                       3.531   Cond. No.                     2.92e+03\n",
       "==============================================================================\n",
       "\n",
       "Warnings:\n",
       "[1] Standard Errors assume that the covariance matrix of the errors is correctly specified.\n",
       "[2] The condition number is large, 2.92e+03. This might indicate that there are\n",
       "strong multicollinearity or other numerical problems.\n",
       "\"\"\""
      ]
     },
     "execution_count": 97,
     "metadata": {},
     "output_type": "execute_result"
    }
   ],
   "source": [
    "# difference-in-difference regression\n",
    "results2 = smf.ols(formula='sc ~ progresa * poor_var + village + fam_n + grc + age + dist_sec + hohedu', data=dd2).fit()\n",
    "results2.summary()"
   ]
  },
  {
   "cell_type": "markdown",
   "metadata": {},
   "source": [
    "* How would we estimate this version of the treatment effects in a regression model?\n",
    "\n",
    "The estimate of the impact using this regression model is 0.0088. But the estimate is not statistically significant as the p-value is greater than 0.05.\n",
    "\n",
    "* What is the counterfactual assumption underlying this regression?\n",
    "\n",
    "The counterfactual assumption underlying this regression is that, in the absence of the treatment, the enrollment of the poor in the control villages would form the counterfactual. \n",
    "\n",
    "* How do these treatment effects compare to the estimates above?\n",
    "\n",
    "The estimate of the impact using this regression model is 0.0088, which is much lower than the estimate we got using the previous regression model. The p-value for the previous regression model was statistically significant whereas for this regression model it is not.\n",
    "\n",
    "* Discuss some possible explanations for differences or similarities \n",
    "\n",
    "Some possible explanantions for the difference is that the estimate in this regression model is inaccurate as the p-value is less than 0.05. Also, standard error in this model is higher than for the previous regression model."
   ]
  },
  {
   "cell_type": "markdown",
   "metadata": {},
   "source": [
    "### 2.7 Summary\n",
    "\n",
    "Based on all the analysis you have undertaken to date, do you believe that Progresa had a causal impact on the enrollment rates of poor households in Mexico?"
   ]
  },
  {
   "cell_type": "markdown",
   "metadata": {},
   "source": [
    "Based on the analysis, it was found that treatment and control villages were inherently different even before the start of the Progresa program. Hence, double-difference (difference-in-difference) would be the most appropriate research design. Using this design, the estimate of the causal impact was approximately 0.03. Hence it proves that the Progresa program has had a causal impact on the average enrollment of the children in Mexico. The progresa program increased the average enrollment of children by about 0.03."
   ]
  }
 ],
 "metadata": {
  "kernelspec": {
   "display_name": "Python 2",
   "language": "python",
   "name": "python2"
  },
  "language_info": {
   "codemirror_mode": {
    "name": "ipython",
    "version": 2
   },
   "file_extension": ".py",
   "mimetype": "text/x-python",
   "name": "python",
   "nbconvert_exporter": "python",
   "pygments_lexer": "ipython2",
   "version": "2.7.11"
  }
 },
 "nbformat": 4,
 "nbformat_minor": 0
}
